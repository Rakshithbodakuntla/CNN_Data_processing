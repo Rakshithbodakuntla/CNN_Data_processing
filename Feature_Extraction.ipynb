{
  "nbformat": 4,
  "nbformat_minor": 0,
  "metadata": {
    "colab": {
      "provenance": [],
      "toc_visible": true,
      "authorship_tag": "ABX9TyN2GI05+L2n+liEEGj71T9h",
      "include_colab_link": true
    },
    "kernelspec": {
      "name": "python3",
      "display_name": "Python 3"
    },
    "language_info": {
      "name": "python"
    }
  },
  "cells": [
    {
      "cell_type": "markdown",
      "metadata": {
        "id": "view-in-github",
        "colab_type": "text"
      },
      "source": [
        "<a href=\"https://colab.research.google.com/github/Rakshithbodakuntla/CNN_Data_processing/blob/main/Feature_Extraction.ipynb\" target=\"_parent\"><img src=\"https://colab.research.google.com/assets/colab-badge.svg\" alt=\"Open In Colab\"/></a>"
      ]
    },
    {
      "cell_type": "code",
      "execution_count": null,
      "metadata": {
        "colab": {
          "base_uri": "https://localhost:8080/"
        },
        "id": "ad5sCG1U4vrc",
        "outputId": "c85789f0-87e0-4a51-f5b7-6bb4ff44aded"
      },
      "outputs": [
        {
          "output_type": "stream",
          "name": "stdout",
          "text": [
            "Error: Image not loaded. Please check the file path or if the image exists.\n",
            "Original 4x4 Matrix:\n",
            " [[7. 8. 7. 3.]\n",
            " [1. 4. 4. 9.]\n",
            " [2. 6. 4. 7.]\n",
            " [7. 7. 9. 2.]]\n",
            "\n",
            "Max Pooled 2x2:\n",
            " [[8. 9.]\n",
            " [7. 9.]]\n",
            "\n",
            "Average Pooled 2x2:\n",
            " [[5.   5.75]\n",
            " [5.5  5.5 ]]\n"
          ]
        }
      ],
      "source": [
        "# Task 1: Implement Edge Detection Using Convolution\n",
        "\n",
        "import numpy as np\n",
        "import cv2\n",
        "import tensorflow as tf\n",
        "import matplotlib.pyplot as plt\n",
        "\n",
        "\n",
        "# Load any sample grayscale image (you can replace the path with your own image)\n",
        "image = cv2.imread('image1.jpg', cv2.IMREAD_GRAYSCALE)\n",
        "\n",
        "# Check if the image was loaded successfully\n",
        "if image is None:\n",
        "    print(\"Error: Image not loaded. Please check the file path or if the image exists.\")\n",
        "else:\n",
        "    # Define Sobel X and Y manually\n",
        "    sobel_x = np.array([\n",
        "        [-1, 0, 1],\n",
        "        [-2, 0, 2],\n",
        "        [-1, 0, 1]\n",
        "    ], dtype=np.float32)\n",
        "\n",
        "    sobel_y = np.array([\n",
        "        [-1, -2, -1],\n",
        "        [0,  0,  0],\n",
        "        [1,  2,  1]\n",
        "    ], dtype=np.float32)\n",
        "\n",
        "    # Apply filters\n",
        "    sobel_x_output = cv2.filter2D(image, -1, sobel_x)\n",
        "    sobel_y_output = cv2.filter2D(image, -1, sobel_y)\n",
        "\n",
        "    # Display\n",
        "    plt.figure(figsize=(12, 4))\n",
        "    plt.subplot(1, 3, 1)\n",
        "    plt.imshow(image, cmap='gray')\n",
        "    plt.title('Original')\n",
        "    plt.axis('off')\n",
        "\n",
        "    plt.subplot(1, 3, 2)\n",
        "    plt.imshow(sobel_x_output, cmap='gray')\n",
        "    plt.title('Sobel X')\n",
        "    plt.axis('off')\n",
        "\n",
        "    plt.subplot(1, 3, 3)\n",
        "    plt.imshow(sobel_y_output, cmap='gray')\n",
        "    plt.title('Sobel Y')\n",
        "    plt.axis('off')\n",
        "\n",
        "    plt.tight_layout()\n",
        "    plt.show()\n",
        "\n",
        "\n",
        "# TASK 2: Max & Average Pooling (TensorFlow/Keras)\n",
        "\n",
        "# Create 4x4 input matrix\n",
        "input_matrix = np.random.randint(0, 10, (1, 4, 4, 1)).astype(np.float32)\n",
        "print(\"Original 4x4 Matrix:\\n\", input_matrix[0, :, :, 0])\n",
        "\n",
        "# MaxPooling\n",
        "max_pool = tf.keras.layers.MaxPooling2D(pool_size=(2, 2), strides=2)\n",
        "max_result = max_pool(input_matrix)\n",
        "print(\"\\nMax Pooled 2x2:\\n\", max_result.numpy()[0, :, :, 0])\n",
        "\n",
        "# AveragePooling\n",
        "avg_pool = tf.keras.layers.AveragePooling2D(pool_size=(2, 2), strides=2)\n",
        "avg_result = avg_pool(input_matrix)\n",
        "print(\"\\nAverage Pooled 2x2:\\n\", avg_result.numpy()[0, :, :, 0])"
      ]
    },
    {
      "cell_type": "code",
      "source": [],
      "metadata": {
        "id": "tbyF7maJ89LX"
      },
      "execution_count": null,
      "outputs": []
    },
    {
      "cell_type": "markdown",
      "source": [
        "# New Section"
      ],
      "metadata": {
        "id": "g8MslaZ_9crv"
      }
    }
  ]
}